{
 "cells": [
  {
   "cell_type": "code",
   "execution_count": 1,
   "id": "eab45205",
   "metadata": {},
   "outputs": [
    {
     "name": "stdout",
     "output_type": "stream",
     "text": [
      "Starting BFS from: A\n",
      "Initial queue: ['A']\n",
      "Initial visited set: {'A'}\n",
      "\n",
      "Dequeued: A\n",
      "Current queue: []\n",
      "Visited nodes: {'A'}\n",
      "Enqueued: B\n",
      "Enqueued: C\n",
      "Updated queue: ['B', 'C']\n",
      "\n",
      "Dequeued: B\n",
      "Current queue: ['C']\n",
      "Visited nodes: {'A', 'B', 'C'}\n",
      "Enqueued: D\n",
      "Enqueued: E\n",
      "Updated queue: ['C', 'D', 'E']\n",
      "\n",
      "Dequeued: C\n",
      "Current queue: ['D', 'E']\n",
      "Visited nodes: {'A', 'E', 'D', 'B', 'C'}\n",
      "Enqueued: F\n",
      "Updated queue: ['D', 'E', 'F']\n",
      "\n",
      "Dequeued: D\n",
      "Current queue: ['E', 'F']\n",
      "Visited nodes: {'A', 'E', 'D', 'B', 'C', 'F'}\n",
      "Updated queue: ['E', 'F']\n",
      "\n",
      "Dequeued: E\n",
      "Current queue: ['F']\n",
      "Visited nodes: {'A', 'E', 'D', 'B', 'C', 'F'}\n",
      "Updated queue: ['F']\n",
      "\n",
      "Dequeued: F\n",
      "Current queue: []\n",
      "Visited nodes: {'A', 'E', 'D', 'B', 'C', 'F'}\n",
      "Updated queue: []\n",
      "\n",
      "BFS traversal completed.\n"
     ]
    }
   ],
   "source": [
    "from collections import deque\n",
    "\n",
    "def bfs(graph, start):\n",
    "    visited = set()\n",
    "    queue = deque([start])\n",
    "    visited.add(start)\n",
    "\n",
    "    print(f\"Starting BFS from: {start}\")\n",
    "    print(f\"Initial queue: {list(queue)}\")\n",
    "    print(f\"Initial visited set: {visited}\\n\")\n",
    "\n",
    "    while queue:\n",
    "        vertex = queue.popleft()\n",
    "        print(f\"Dequeued: {vertex}\")\n",
    "        print(f\"Current queue: {list(queue)}\")\n",
    "        print(f\"Visited nodes: {visited}\")\n",
    "\n",
    "        for neighbor in graph[vertex]:\n",
    "            if neighbor not in visited:\n",
    "                visited.add(neighbor)\n",
    "                queue.append(neighbor)\n",
    "                print(f\"Enqueued: {neighbor}\")\n",
    "        \n",
    "        print(f\"Updated queue: {list(queue)}\\n\")\n",
    "\n",
    "    print(\"BFS traversal completed.\")\n",
    "\n",
    "graph = {\n",
    "    'A': ['B', 'C'],\n",
    "    'B': ['A', 'D', 'E'],\n",
    "    'C': ['A', 'F'],\n",
    "    'D': ['B'],\n",
    "    'E': ['B', 'F'],\n",
    "    'F': ['C', 'E']\n",
    "}\n",
    "\n",
    "bfs(graph, 'A')\n"
   ]
  },
  {
   "cell_type": "code",
   "execution_count": null,
   "id": "5fc9cdf5",
   "metadata": {},
   "outputs": [],
   "source": []
  }
 ],
 "metadata": {
  "kernelspec": {
   "display_name": "Python 3",
   "language": "python",
   "name": "python3"
  },
  "language_info": {
   "codemirror_mode": {
    "name": "ipython",
    "version": 3
   },
   "file_extension": ".py",
   "mimetype": "text/x-python",
   "name": "python",
   "nbconvert_exporter": "python",
   "pygments_lexer": "ipython3",
   "version": "3.12.6"
  }
 },
 "nbformat": 4,
 "nbformat_minor": 5
}
